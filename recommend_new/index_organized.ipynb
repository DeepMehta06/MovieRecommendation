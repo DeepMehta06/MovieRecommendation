{
 "cells": [
  {
   "cell_type": "markdown",
   "id": "2a60602e",
   "metadata": {},
   "source": [
    "# Movie Recommender System\n",
    "A content-based movie recommendation system using cosine similarity"
   ]
  },
  {
   "cell_type": "markdown",
   "id": "87fa1f34",
   "metadata": {},
   "source": [
    "## 1. Import Libraries"
   ]
  },
  {
   "cell_type": "code",
   "execution_count": 1,
   "id": "808b99da",
   "metadata": {},
   "outputs": [],
   "source": [
    "import numpy as np\n",
    "import pandas as pd\n",
    "import ast\n",
    "import re\n",
    "from IPython.display import display"
   ]
  },
  {
   "cell_type": "markdown",
   "id": "54dbe048",
   "metadata": {},
   "source": [
    "## 2. Load Data"
   ]
  },
  {
   "cell_type": "code",
   "execution_count": 2,
   "id": "87e080a3",
   "metadata": {},
   "outputs": [],
   "source": [
    "# Load movie and credits datasets\n",
    "movies = pd.read_csv('tmdb_5000_movies.csv', sep=',')\n",
    "credits = pd.read_csv('tmdb_5000_credits.csv')"
   ]
  },
  {
   "cell_type": "code",
   "execution_count": 3,
   "id": "eeb66d7f",
   "metadata": {},
   "outputs": [
    {
     "name": "stdout",
     "output_type": "stream",
     "text": [
      "Total movies: 4809\n"
     ]
    }
   ],
   "source": [
    "# Merge datasets on title\n",
    "movies = movies.merge(credits, on='title')\n",
    "print(f\"Total movies: {len(movies)}\")"
   ]
  },
  {
   "cell_type": "markdown",
   "id": "eed72e1e",
   "metadata": {},
   "source": [
    "## 3. Data Preprocessing"
   ]
  },
  {
   "cell_type": "code",
   "execution_count": 4,
   "id": "7cbcad0a",
   "metadata": {},
   "outputs": [
    {
     "data": {
      "text/html": [
       "<div>\n",
       "<style scoped>\n",
       "    .dataframe tbody tr th:only-of-type {\n",
       "        vertical-align: middle;\n",
       "    }\n",
       "\n",
       "    .dataframe tbody tr th {\n",
       "        vertical-align: top;\n",
       "    }\n",
       "\n",
       "    .dataframe thead th {\n",
       "        text-align: right;\n",
       "    }\n",
       "</style>\n",
       "<table border=\"1\" class=\"dataframe\">\n",
       "  <thead>\n",
       "    <tr style=\"text-align: right;\">\n",
       "      <th></th>\n",
       "      <th>id</th>\n",
       "      <th>title</th>\n",
       "      <th>overview</th>\n",
       "      <th>genres</th>\n",
       "      <th>keywords</th>\n",
       "      <th>cast</th>\n",
       "      <th>crew</th>\n",
       "      <th>original_language</th>\n",
       "      <th>release_date</th>\n",
       "      <th>runtime</th>\n",
       "    </tr>\n",
       "  </thead>\n",
       "  <tbody>\n",
       "    <tr>\n",
       "      <th>0</th>\n",
       "      <td>19995</td>\n",
       "      <td>Avatar</td>\n",
       "      <td>In the 22nd century, a paraplegic Marine is di...</td>\n",
       "      <td>[{\"id\": 28, \"name\": \"Action\"}, {\"id\": 12, \"nam...</td>\n",
       "      <td>[{\"id\": 1463, \"name\": \"culture clash\"}, {\"id\":...</td>\n",
       "      <td>[{\"cast_id\": 242, \"character\": \"Jake Sully\", \"...</td>\n",
       "      <td>[{\"credit_id\": \"52fe48009251416c750aca23\", \"de...</td>\n",
       "      <td>en</td>\n",
       "      <td>2009-12-10</td>\n",
       "      <td>162.0</td>\n",
       "    </tr>\n",
       "    <tr>\n",
       "      <th>1</th>\n",
       "      <td>285</td>\n",
       "      <td>Pirates of the Caribbean: At World's End</td>\n",
       "      <td>Captain Barbossa, long believed to be dead, ha...</td>\n",
       "      <td>[{\"id\": 12, \"name\": \"Adventure\"}, {\"id\": 14, \"...</td>\n",
       "      <td>[{\"id\": 270, \"name\": \"ocean\"}, {\"id\": 726, \"na...</td>\n",
       "      <td>[{\"cast_id\": 4, \"character\": \"Captain Jack Spa...</td>\n",
       "      <td>[{\"credit_id\": \"52fe4232c3a36847f800b579\", \"de...</td>\n",
       "      <td>en</td>\n",
       "      <td>2007-05-19</td>\n",
       "      <td>169.0</td>\n",
       "    </tr>\n",
       "    <tr>\n",
       "      <th>2</th>\n",
       "      <td>206647</td>\n",
       "      <td>Spectre</td>\n",
       "      <td>A cryptic message from Bond’s past sends him o...</td>\n",
       "      <td>[{\"id\": 28, \"name\": \"Action\"}, {\"id\": 12, \"nam...</td>\n",
       "      <td>[{\"id\": 470, \"name\": \"spy\"}, {\"id\": 818, \"name...</td>\n",
       "      <td>[{\"cast_id\": 1, \"character\": \"James Bond\", \"cr...</td>\n",
       "      <td>[{\"credit_id\": \"54805967c3a36829b5002c41\", \"de...</td>\n",
       "      <td>en</td>\n",
       "      <td>2015-10-26</td>\n",
       "      <td>148.0</td>\n",
       "    </tr>\n",
       "  </tbody>\n",
       "</table>\n",
       "</div>"
      ],
      "text/plain": [
       "       id                                     title  \\\n",
       "0   19995                                    Avatar   \n",
       "1     285  Pirates of the Caribbean: At World's End   \n",
       "2  206647                                   Spectre   \n",
       "\n",
       "                                            overview  \\\n",
       "0  In the 22nd century, a paraplegic Marine is di...   \n",
       "1  Captain Barbossa, long believed to be dead, ha...   \n",
       "2  A cryptic message from Bond’s past sends him o...   \n",
       "\n",
       "                                              genres  \\\n",
       "0  [{\"id\": 28, \"name\": \"Action\"}, {\"id\": 12, \"nam...   \n",
       "1  [{\"id\": 12, \"name\": \"Adventure\"}, {\"id\": 14, \"...   \n",
       "2  [{\"id\": 28, \"name\": \"Action\"}, {\"id\": 12, \"nam...   \n",
       "\n",
       "                                            keywords  \\\n",
       "0  [{\"id\": 1463, \"name\": \"culture clash\"}, {\"id\":...   \n",
       "1  [{\"id\": 270, \"name\": \"ocean\"}, {\"id\": 726, \"na...   \n",
       "2  [{\"id\": 470, \"name\": \"spy\"}, {\"id\": 818, \"name...   \n",
       "\n",
       "                                                cast  \\\n",
       "0  [{\"cast_id\": 242, \"character\": \"Jake Sully\", \"...   \n",
       "1  [{\"cast_id\": 4, \"character\": \"Captain Jack Spa...   \n",
       "2  [{\"cast_id\": 1, \"character\": \"James Bond\", \"cr...   \n",
       "\n",
       "                                                crew original_language  \\\n",
       "0  [{\"credit_id\": \"52fe48009251416c750aca23\", \"de...                en   \n",
       "1  [{\"credit_id\": \"52fe4232c3a36847f800b579\", \"de...                en   \n",
       "2  [{\"credit_id\": \"54805967c3a36829b5002c41\", \"de...                en   \n",
       "\n",
       "  release_date  runtime  \n",
       "0   2009-12-10    162.0  \n",
       "1   2007-05-19    169.0  \n",
       "2   2015-10-26    148.0  "
      ]
     },
     "execution_count": 4,
     "metadata": {},
     "output_type": "execute_result"
    }
   ],
   "source": [
    "# Select relevant columns\n",
    "movies = movies[['id', 'title', 'overview', 'genres', 'keywords', 'cast', 'crew', 'original_language', 'release_date', 'runtime']]\n",
    "\n",
    "# Truncate overview to first 2 sentences for better processing\n",
    "def truncate_overview(text):\n",
    "    if isinstance(text, str):\n",
    "        sentences = text.split('. ')\n",
    "        return '. '.join(sentences[:2]) + ('.' if len(sentences) > 1 else '')\n",
    "    return text\n",
    "\n",
    "movies['overview'] = movies['overview'].apply(truncate_overview)\n",
    "movies.head(3)"
   ]
  },
  {
   "cell_type": "code",
   "execution_count": 5,
   "id": "13101884",
   "metadata": {},
   "outputs": [
    {
     "name": "stdout",
     "output_type": "stream",
     "text": [
      "Missing values before cleaning:\n",
      "id                   0\n",
      "title                0\n",
      "overview             3\n",
      "genres               0\n",
      "keywords             0\n",
      "cast                 0\n",
      "crew                 0\n",
      "original_language    0\n",
      "release_date         1\n",
      "runtime              2\n",
      "dtype: int64\n",
      "\n",
      "Movies after cleaning: 4805\n",
      "\n",
      "Missing values after cleaning:\n",
      "id                   0\n",
      "title                0\n",
      "overview             0\n",
      "genres               0\n",
      "keywords             0\n",
      "cast                 0\n",
      "crew                 0\n",
      "original_language    0\n",
      "release_date         0\n",
      "runtime              0\n",
      "dtype: int64\n"
     ]
    }
   ],
   "source": [
    "# Check for missing values\n",
    "print(\"Missing values before cleaning:\")\n",
    "print(movies.isnull().sum())\n",
    "\n",
    "# Drop rows with missing values\n",
    "movies.dropna(inplace=True)\n",
    "\n",
    "print(f\"\\nMovies after cleaning: {len(movies)}\")\n",
    "print(\"\\nMissing values after cleaning:\")\n",
    "print(movies.isnull().sum())"
   ]
  },
  {
   "cell_type": "code",
   "execution_count": 6,
   "id": "7aca845e",
   "metadata": {},
   "outputs": [
    {
     "name": "stdout",
     "output_type": "stream",
     "text": [
      "Duplicate rows: 0\n"
     ]
    }
   ],
   "source": [
    "# Check for duplicates\n",
    "print(f\"Duplicate rows: {movies.duplicated().sum()}\")"
   ]
  },
  {
   "cell_type": "markdown",
   "id": "4f96bf7b",
   "metadata": {},
   "source": [
    "## 4. Feature Extraction"
   ]
  },
  {
   "cell_type": "code",
   "execution_count": 7,
   "id": "1ac88cc5",
   "metadata": {},
   "outputs": [],
   "source": [
    "# Helper function to extract names from stringified JSON lists\n",
    "def convert(obj):\n",
    "    \"\"\"Extract all names from a list of dictionaries\"\"\"\n",
    "    L = []\n",
    "    for i in ast.literal_eval(obj):\n",
    "        L.append(i['name'])\n",
    "    return L\n",
    "\n",
    "def convert_cast(obj):\n",
    "    \"\"\"Extract top 3 cast members\"\"\"\n",
    "    L = []\n",
    "    count = 0\n",
    "    for i in ast.literal_eval(obj):\n",
    "        if count != 3:\n",
    "            count += 1\n",
    "            L.append(i['name'])\n",
    "        else:\n",
    "            break\n",
    "    return L\n",
    "\n",
    "def fetch_director(obj):\n",
    "    \"\"\"Extract director name from crew\"\"\"\n",
    "    L = []\n",
    "    for i in ast.literal_eval(obj):\n",
    "        if i['job'] == 'Director':\n",
    "            L.append(i['name'])\n",
    "            break\n",
    "    return L"
   ]
  },
  {
   "cell_type": "code",
   "execution_count": 8,
   "id": "52e9e0ad",
   "metadata": {},
   "outputs": [
    {
     "name": "stdout",
     "output_type": "stream",
     "text": [
      "Sample extracted features:\n"
     ]
    },
    {
     "data": {
      "text/html": [
       "<div>\n",
       "<style scoped>\n",
       "    .dataframe tbody tr th:only-of-type {\n",
       "        vertical-align: middle;\n",
       "    }\n",
       "\n",
       "    .dataframe tbody tr th {\n",
       "        vertical-align: top;\n",
       "    }\n",
       "\n",
       "    .dataframe thead th {\n",
       "        text-align: right;\n",
       "    }\n",
       "</style>\n",
       "<table border=\"1\" class=\"dataframe\">\n",
       "  <thead>\n",
       "    <tr style=\"text-align: right;\">\n",
       "      <th></th>\n",
       "      <th>title</th>\n",
       "      <th>genres</th>\n",
       "      <th>cast</th>\n",
       "      <th>crew</th>\n",
       "    </tr>\n",
       "  </thead>\n",
       "  <tbody>\n",
       "    <tr>\n",
       "      <th>0</th>\n",
       "      <td>Avatar</td>\n",
       "      <td>[Action, Adventure, Fantasy, Science Fiction]</td>\n",
       "      <td>[Sam Worthington, Zoe Saldana, Sigourney Weaver]</td>\n",
       "      <td>[James Cameron]</td>\n",
       "    </tr>\n",
       "    <tr>\n",
       "      <th>1</th>\n",
       "      <td>Pirates of the Caribbean: At World's End</td>\n",
       "      <td>[Adventure, Fantasy, Action]</td>\n",
       "      <td>[Johnny Depp, Orlando Bloom, Keira Knightley]</td>\n",
       "      <td>[Gore Verbinski]</td>\n",
       "    </tr>\n",
       "  </tbody>\n",
       "</table>\n",
       "</div>"
      ],
      "text/plain": [
       "                                      title  \\\n",
       "0                                    Avatar   \n",
       "1  Pirates of the Caribbean: At World's End   \n",
       "\n",
       "                                          genres  \\\n",
       "0  [Action, Adventure, Fantasy, Science Fiction]   \n",
       "1                   [Adventure, Fantasy, Action]   \n",
       "\n",
       "                                               cast              crew  \n",
       "0  [Sam Worthington, Zoe Saldana, Sigourney Weaver]   [James Cameron]  \n",
       "1     [Johnny Depp, Orlando Bloom, Keira Knightley]  [Gore Verbinski]  "
      ]
     },
     "execution_count": 8,
     "metadata": {},
     "output_type": "execute_result"
    }
   ],
   "source": [
    "# Apply extraction functions\n",
    "movies['genres'] = movies['genres'].apply(convert)\n",
    "movies['keywords'] = movies['keywords'].apply(convert)\n",
    "movies['cast'] = movies['cast'].apply(convert_cast)\n",
    "movies['crew'] = movies['crew'].apply(fetch_director)\n",
    "\n",
    "print(\"Sample extracted features:\")\n",
    "movies[['title', 'genres', 'cast', 'crew']].head(2)"
   ]
  },
  {
   "cell_type": "markdown",
   "id": "25817519",
   "metadata": {},
   "source": [
    "## 5. Text Processing"
   ]
  },
  {
   "cell_type": "code",
   "execution_count": 9,
   "id": "244d43c3",
   "metadata": {},
   "outputs": [
    {
     "name": "stdout",
     "output_type": "stream",
     "text": [
      "Sample processed features:\n"
     ]
    },
    {
     "data": {
      "text/html": [
       "<div>\n",
       "<style scoped>\n",
       "    .dataframe tbody tr th:only-of-type {\n",
       "        vertical-align: middle;\n",
       "    }\n",
       "\n",
       "    .dataframe tbody tr th {\n",
       "        vertical-align: top;\n",
       "    }\n",
       "\n",
       "    .dataframe thead th {\n",
       "        text-align: right;\n",
       "    }\n",
       "</style>\n",
       "<table border=\"1\" class=\"dataframe\">\n",
       "  <thead>\n",
       "    <tr style=\"text-align: right;\">\n",
       "      <th></th>\n",
       "      <th>title</th>\n",
       "      <th>overview</th>\n",
       "      <th>genres</th>\n",
       "    </tr>\n",
       "  </thead>\n",
       "  <tbody>\n",
       "    <tr>\n",
       "      <th>0</th>\n",
       "      <td>Avatar</td>\n",
       "      <td>[In, the, 22nd, century,, a, paraplegic, Marin...</td>\n",
       "      <td>[Action, Adventure, Fantasy, ScienceFiction]</td>\n",
       "    </tr>\n",
       "  </tbody>\n",
       "</table>\n",
       "</div>"
      ],
      "text/plain": [
       "    title                                           overview  \\\n",
       "0  Avatar  [In, the, 22nd, century,, a, paraplegic, Marin...   \n",
       "\n",
       "                                         genres  \n",
       "0  [Action, Adventure, Fantasy, ScienceFiction]  "
      ]
     },
     "execution_count": 9,
     "metadata": {},
     "output_type": "execute_result"
    }
   ],
   "source": [
    "# Convert overview to list of words\n",
    "movies['overview'] = movies['overview'].apply(lambda x: x.split())\n",
    "\n",
    "# Remove spaces from multi-word names (e.g., \"Science Fiction\" -> \"ScienceFiction\")\n",
    "movies['genres'] = movies['genres'].apply(lambda x: [i.replace(\" \", \"\") for i in x])\n",
    "movies['keywords'] = movies['keywords'].apply(lambda x: [i.replace(\" \", \"\") for i in x])\n",
    "movies['cast'] = movies['cast'].apply(lambda x: [i.replace(\" \", \"\") for i in x])\n",
    "movies['crew'] = movies['crew'].apply(lambda x: [i.replace(\" \", \"\") for i in x])\n",
    "\n",
    "print(\"Sample processed features:\")\n",
    "movies[['title', 'overview', 'genres']].head(1)"
   ]
  },
  {
   "cell_type": "code",
   "execution_count": 10,
   "id": "3dc40f1c",
   "metadata": {},
   "outputs": [
    {
     "name": "stdout",
     "output_type": "stream",
     "text": [
      "\n",
      "Final dataset shape: (4805, 3)\n",
      "\n",
      "Sample tag:\n",
      "in the 22nd century, a paraplegic marine is dispatched to the moon pandora on a unique mission, but becomes torn between following orders and protecting an alien civilization. action adventure fantasy...\n"
     ]
    }
   ],
   "source": [
    "# Combine all features into a single 'tag' column\n",
    "movies['tag'] = movies['overview'] + movies['genres'] + movies['keywords'] + movies['cast'] + movies['crew']\n",
    "\n",
    "# Create final dataframe with essential columns\n",
    "newMovieDf = movies[['id', 'title', 'tag']].copy()\n",
    "\n",
    "# Convert tag list to string\n",
    "newMovieDf['tag'] = newMovieDf['tag'].apply(lambda x: \" \".join(x))\n",
    "\n",
    "# Convert to lowercase\n",
    "newMovieDf['tag'] = newMovieDf['tag'].apply(lambda x: x.lower())\n",
    "\n",
    "print(f\"\\nFinal dataset shape: {newMovieDf.shape}\")\n",
    "print(f\"\\nSample tag:\\n{newMovieDf['tag'][0][:200]}...\")"
   ]
  },
  {
   "cell_type": "markdown",
   "id": "292e5a05",
   "metadata": {},
   "source": [
    "## 6. Text Stemming (NLTK)"
   ]
  },
  {
   "cell_type": "code",
   "execution_count": 11,
   "id": "94b5cefc",
   "metadata": {},
   "outputs": [],
   "source": [
    "# Import NLTK for stemming\n",
    "import nltk\n",
    "from nltk.stem.porter import PorterStemmer\n",
    "\n",
    "ps = PorterStemmer()"
   ]
  },
  {
   "cell_type": "code",
   "execution_count": 12,
   "id": "58f60308",
   "metadata": {},
   "outputs": [
    {
     "name": "stdout",
     "output_type": "stream",
     "text": [
      "NLTK data downloaded successfully!\n"
     ]
    }
   ],
   "source": [
    "# Download required NLTK data\n",
    "nltk.download('punkt', quiet=True)\n",
    "nltk.download('stopwords', quiet=True)\n",
    "nltk.download('wordnet', quiet=True)\n",
    "nltk.download('omw-1.4', quiet=True)\n",
    "print(\"NLTK data downloaded successfully!\")"
   ]
  },
  {
   "cell_type": "code",
   "execution_count": 13,
   "id": "764ec037",
   "metadata": {},
   "outputs": [
    {
     "name": "stdout",
     "output_type": "stream",
     "text": [
      "Stemming test:\n",
      "'loved danced' -> 'love danc'\n"
     ]
    }
   ],
   "source": [
    "# Define stemming function\n",
    "def stem(text):\n",
    "    \"\"\"Apply Porter Stemmer to reduce words to root form\"\"\"\n",
    "    y = []\n",
    "    for i in text.split(\" \"):\n",
    "        y.append(ps.stem(i))\n",
    "    return \" \".join(y)\n",
    "\n",
    "# Test stemming\n",
    "print(\"Stemming test:\")\n",
    "print(f\"'loved danced' -> '{stem('loved danced')}'\")"
   ]
  },
  {
   "cell_type": "code",
   "execution_count": 14,
   "id": "e5db498c",
   "metadata": {},
   "outputs": [
    {
     "name": "stdout",
     "output_type": "stream",
     "text": [
      "Applying stemming to all movie tags...\n",
      "Stemming complete!\n",
      "\n",
      "Sample stemmed tag:\n",
      "in the 22nd century, a parapleg marin is dispatch to the moon pandora on a uniqu mission, but becom torn between follow order and protect an alien civilization. action adventur fantasi sciencefict cul...\n"
     ]
    }
   ],
   "source": [
    "# Apply stemming to all tags\n",
    "print(\"Applying stemming to all movie tags...\")\n",
    "newMovieDf['tag'] = newMovieDf['tag'].apply(stem)\n",
    "print(\"Stemming complete!\")\n",
    "print(f\"\\nSample stemmed tag:\\n{newMovieDf['tag'][0][:200]}...\")"
   ]
  },
  {
   "cell_type": "markdown",
   "id": "42b95410",
   "metadata": {},
   "source": [
    "## 7. Vectorization & Similarity Computation"
   ]
  },
  {
   "cell_type": "code",
   "execution_count": 15,
   "id": "dcc9c561",
   "metadata": {},
   "outputs": [],
   "source": [
    "# Import scikit-learn libraries\n",
    "from sklearn.feature_extraction.text import CountVectorizer\n",
    "from sklearn.metrics.pairwise import cosine_similarity"
   ]
  },
  {
   "cell_type": "code",
   "execution_count": 16,
   "id": "67d0a2ea",
   "metadata": {},
   "outputs": [
    {
     "name": "stdout",
     "output_type": "stream",
     "text": [
      "Vector shape: (4805, 5000)\n",
      "Number of movies: 4805\n",
      "Number of features: 5000\n"
     ]
    }
   ],
   "source": [
    "# Create CountVectorizer (max 5000 features, remove English stop words)\n",
    "cv = CountVectorizer(max_features=5000, stop_words='english')\n",
    "\n",
    "# Transform tags to vector representation\n",
    "vector = cv.fit_transform(newMovieDf['tag']).toarray()\n",
    "\n",
    "print(f\"Vector shape: {vector.shape}\")\n",
    "print(f\"Number of movies: {vector.shape[0]}\")\n",
    "print(f\"Number of features: {vector.shape[1]}\")"
   ]
  },
  {
   "cell_type": "code",
   "execution_count": 17,
   "id": "0bef6bf2",
   "metadata": {},
   "outputs": [
    {
     "name": "stdout",
     "output_type": "stream",
     "text": [
      "Similarity matrix shape: (4805, 4805)\n",
      "\n",
      "Sample similarities for first movie:\n",
      "[1.         0.08134892 0.08385255 0.05795006 0.18450624 0.10660036\n",
      " 0.03922323 0.14301939 0.05679618 0.0942809 ]\n"
     ]
    }
   ],
   "source": [
    "# Compute cosine similarity matrix\n",
    "similarity = cosine_similarity(vector)\n",
    "\n",
    "print(f\"Similarity matrix shape: {similarity.shape}\")\n",
    "print(f\"\\nSample similarities for first movie:\")\n",
    "print(similarity[0][:10])"
   ]
  },
  {
   "cell_type": "markdown",
   "id": "0f1822f5",
   "metadata": {},
   "source": [
    "## 8. Title Normalization for Robust Lookup"
   ]
  },
  {
   "cell_type": "code",
   "execution_count": 18,
   "id": "b127a67e",
   "metadata": {},
   "outputs": [
    {
     "name": "stdout",
     "output_type": "stream",
     "text": [
      "Sample normalized titles:\n",
      "                                      title                        title_norm\n",
      "0                                    Avatar                            avatar\n",
      "1  Pirates of the Caribbean: At World's End  piratesofthecaribbeanatworldsend\n",
      "2                                   Spectre                           spectre\n",
      "3                     The Dark Knight Rises                thedarkknightrises\n",
      "4                               John Carter                        johncarter\n"
     ]
    }
   ],
   "source": [
    "# Create normalized title column for flexible matching\n",
    "def normalize_title(s: str) -> str:\n",
    "    \"\"\"Normalize title: lowercase, remove non-alphanumeric characters\"\"\"\n",
    "    s = str(s).lower()\n",
    "    s = re.sub(r\"[^a-z0-9]+\", \"\", s)  # Keep only alphanumerics\n",
    "    return s\n",
    "\n",
    "newMovieDf['title_norm'] = newMovieDf['title'].apply(normalize_title)\n",
    "\n",
    "print(\"Sample normalized titles:\")\n",
    "print(newMovieDf[['title', 'title_norm']].head(5))"
   ]
  },
  {
   "cell_type": "markdown",
   "id": "2d6cc628",
   "metadata": {},
   "source": [
    "## 9. Recommendation Function"
   ]
  },
  {
   "cell_type": "code",
   "execution_count": 19,
   "id": "047f164f",
   "metadata": {},
   "outputs": [],
   "source": [
    "from difflib import get_close_matches\n",
    "\n",
    "def recommend(title_query: str, k: int = 10):\n",
    "    \"\"\"\n",
    "    Recommend k similar movies based on the input title.\n",
    "    \n",
    "    Parameters:\n",
    "    - title_query: Movie title (case-insensitive, flexible spelling)\n",
    "    - k: Number of recommendations to return (default: 10)\n",
    "    \n",
    "    Returns:\n",
    "    - Prints list of recommended movie titles\n",
    "    \"\"\"\n",
    "    # Normalize query\n",
    "    q = normalize_title(title_query)\n",
    "    \n",
    "    # Find exact match\n",
    "    matches = newMovieDf[newMovieDf['title_norm'] == q]\n",
    "    \n",
    "    if matches.empty:\n",
    "        # No exact match - suggest similar titles\n",
    "        candidates = newMovieDf['title_norm'].tolist()\n",
    "        close = get_close_matches(q, candidates, n=5, cutoff=0.6)\n",
    "        \n",
    "        if close:\n",
    "            print(f\"Title not found: '{title_query}'. Did you mean:\")\n",
    "            for c in close:\n",
    "                print(' •', newMovieDf.loc[newMovieDf['title_norm'] == c, 'title'].iloc[0])\n",
    "        else:\n",
    "            print(f\"Title not found: '{title_query}'. Try another title or spelling.\")\n",
    "        return\n",
    "    \n",
    "    # Get movie index\n",
    "    movie_index = matches.index[0]\n",
    "    \n",
    "    # Find top-k most similar movies (excluding the input movie itself)\n",
    "    top = sorted(enumerate(similarity[movie_index]), key=lambda x: x[1], reverse=True)[1:k+1]\n",
    "    \n",
    "    print(f\"Top {k} recommendations for '{matches.iloc[0]['title']}':\\n\")\n",
    "    for rank, (idx, score) in enumerate(top, 1):\n",
    "        print(f\"{rank}. {newMovieDf.iloc[idx].title} (similarity: {score:.4f})\")"
   ]
  },
  {
   "cell_type": "markdown",
   "id": "e5dfb306",
   "metadata": {},
   "source": [
    "## 10. Test Recommendations"
   ]
  },
  {
   "cell_type": "code",
   "execution_count": 20,
   "id": "c3f00435",
   "metadata": {},
   "outputs": [
    {
     "name": "stdout",
     "output_type": "stream",
     "text": [
      "Top 5 recommendations for 'Spider-Man':\n",
      "\n",
      "1. Spider-Man 3 (similarity: 0.4760)\n",
      "2. Spider-Man 2 (similarity: 0.4397)\n",
      "3. The Amazing Spider-Man 2 (similarity: 0.3462)\n",
      "4. Arachnophobia (similarity: 0.2669)\n",
      "5. The Amazing Spider-Man (similarity: 0.2288)\n"
     ]
    }
   ],
   "source": [
    "# Test with Spider-Man\n",
    "recommend('Spider-Man', k=5)"
   ]
  },
  {
   "cell_type": "code",
   "execution_count": 21,
   "id": "8f6e53ba",
   "metadata": {},
   "outputs": [
    {
     "name": "stdout",
     "output_type": "stream",
     "text": [
      "Top 5 recommendations for 'Avatar':\n",
      "\n",
      "1. Aliens vs Predator: Requiem (similarity: 0.2697)\n",
      "2. Aliens (similarity: 0.2565)\n",
      "3. Falcon Rising (similarity: 0.2539)\n",
      "4. Titan A.E. (similarity: 0.2440)\n",
      "5. Battle: Los Angeles (similarity: 0.2339)\n"
     ]
    }
   ],
   "source": [
    "# Test with Avatar\n",
    "recommend('Avatar', k=5)"
   ]
  },
  {
   "cell_type": "code",
   "execution_count": 22,
   "id": "7a0e1cf7",
   "metadata": {},
   "outputs": [
    {
     "name": "stdout",
     "output_type": "stream",
     "text": [
      "Top 5 recommendations for 'The Dark Knight':\n",
      "\n",
      "1. The Dark Knight Rises (similarity: 0.4543)\n",
      "2. Batman Begins (similarity: 0.4518)\n",
      "3. Batman & Robin (similarity: 0.3643)\n",
      "4. Amidst the Devil's Wings (similarity: 0.3381)\n",
      "5. Batman Returns (similarity: 0.3313)\n"
     ]
    }
   ],
   "source": [
    "# Test with flexible spelling\n",
    "recommend('the dark knight', k=5)"
   ]
  },
  {
   "cell_type": "markdown",
   "id": "ebf6a20a",
   "metadata": {},
   "source": [
    "## 11. Explore Dataset"
   ]
  },
  {
   "cell_type": "code",
   "execution_count": 23,
   "id": "2c4f8032",
   "metadata": {},
   "outputs": [
    {
     "name": "stdout",
     "output_type": "stream",
     "text": [
      "Random sample of movies in dataset:\n"
     ]
    },
    {
     "data": {
      "text/plain": [
       "array(['Facing the Giants', 'Pocahontas',\n",
       "       'The Oogieloves in the Big Balloon Adventure', 'Legal Eagles',\n",
       "       'Paul Blart: Mall Cop 2', 'The Wolf of Wall Street', 'Jaws',\n",
       "       'Monsoon Wedding', 'Son of the Mask', 'Godsend'], dtype=object)"
      ]
     },
     "execution_count": 23,
     "metadata": {},
     "output_type": "execute_result"
    }
   ],
   "source": [
    "# Show random movies for testing\n",
    "print(\"Random sample of movies in dataset:\")\n",
    "newMovieDf.sample(10)[['title']].values.flatten()"
   ]
  },
  {
   "cell_type": "code",
   "execution_count": 24,
   "id": "e6ca4e03",
   "metadata": {},
   "outputs": [],
   "source": [
    "import pickle\n"
   ]
  },
  {
   "cell_type": "code",
   "execution_count": 25,
   "id": "57d9a763",
   "metadata": {},
   "outputs": [],
   "source": [
    "pickle.dump(newMovieDf, open('movies.pkl', 'wb'))"
   ]
  },
  {
   "cell_type": "code",
   "execution_count": 27,
   "id": "b1fb9427",
   "metadata": {},
   "outputs": [],
   "source": [
    "pickle.dump(similarity, open('similarity_list.pkl', 'wb'))"
   ]
  },
  {
   "cell_type": "code",
   "execution_count": null,
   "id": "ee071ead",
   "metadata": {},
   "outputs": [],
   "source": []
  }
 ],
 "metadata": {
  "kernelspec": {
   "display_name": "base",
   "language": "python",
   "name": "python3"
  },
  "language_info": {
   "codemirror_mode": {
    "name": "ipython",
    "version": 3
   },
   "file_extension": ".py",
   "mimetype": "text/x-python",
   "name": "python",
   "nbconvert_exporter": "python",
   "pygments_lexer": "ipython3",
   "version": "3.13.5"
  }
 },
 "nbformat": 4,
 "nbformat_minor": 5
}
